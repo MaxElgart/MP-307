{
 "cells": [
  {
   "cell_type": "markdown",
   "metadata": {},
   "source": [
    "##    MP307 Practical 3 Discrete Population Models"
   ]
  },
  {
   "cell_type": "code",
   "execution_count": 1,
   "metadata": {},
   "outputs": [],
   "source": [
    "%matplotlib inline\n",
    "\n",
    "import numpy as np\n",
    "import matplotlib.pyplot as plt"
   ]
  },
  {
   "cell_type": "markdown",
   "metadata": {},
   "source": [
    "## Q.1(*) Geometric Population Model\n",
    "Consider the geometric population model $P_{n+1}=(1+r)P_{n}$ for $n=0,1,\\ldots$ with solution $\n",
    "P_{n}=P_{0}e^{sn}$ for $s=\\log (1+r)$ as a model of \n",
    " 1. Sweden's population with 11 samples from 1750 to 1960 \n",
    " 2. The US population with 19 samples from 1790 to 1990."
   ]
  },
  {
   "cell_type": "markdown",
   "metadata": {},
   "source": [
    " ### Population of Sweden\n",
    " The data (in millions) are given in the lists `Year` and `Pop` below."
   ]
  },
  {
   "cell_type": "code",
   "execution_count": 2,
   "metadata": {},
   "outputs": [
    {
     "data": {
      "text/plain": [
       "11"
      ]
     },
     "execution_count": 2,
     "metadata": {},
     "output_type": "execute_result"
    }
   ],
   "source": [
    "Year = [1750, 1770, 1790, 1810, 1830, 1850, 1870, 1890, 1910, 1930, 1960]\n",
    "Pop= [1.76, 2.03, 2.158, 2.378, 2.888, 3.48, 4.17, 4.785, 5.522, 6.14, 7.49]\n",
    "len(Pop)"
   ]
  },
  {
   "cell_type": "code",
   "execution_count": 3,
   "metadata": {},
   "outputs": [
    {
     "data": {
      "image/png": "[encoded data removed]",
      "text/plain": [
       "<Figure size 432x288 with 1 Axes>"
      ]
     },
     "metadata": {
      "needs_background": "light"
     },
     "output_type": "display_data"
    }
   ],
   "source": [
    "plt.figure(1)\n",
    "plt.plot(Year,Pop,'bo')\n",
    "plt.axis([1740,1970,1,8])\n",
    "plt.title('Population of Sweden')\n",
    "plt.show()"
   ]
  },
  {
   "cell_type": "markdown",
   "metadata": {},
   "source": [
    "Look at t vs log(P):"
   ]
  },
  {
   "cell_type": "code",
   "execution_count": 4,
   "metadata": {},
   "outputs": [
    {
     "data": {
      "image/png": "[encoded data removed]",
      "text/plain": [
       "<Figure size 432x288 with 1 Axes>"
      ]
     },
     "metadata": {
      "needs_background": "light"
     },
     "output_type": "display_data"
    }
   ],
   "source": [
    "plt.figure(2) # new figure\n",
    "plt.plot(Year,Pop,'bo')\n",
    "plt.yscale(\"log\")\n",
    "plt.axis([1740,1970,1,8])\n",
    "plt.title('Log Population of Sweden')\n",
    "plt.show()"
   ]
  },
  {
   "cell_type": "markdown",
   "metadata": {},
   "source": [
    "The log plot suggest a linear relationship to between $\\log P$ and $t$ of the form $\\log P(t)=st+b$ for some $s,b$. Thus $P(t)=P_{0}e^{st}$ with $P_{0}=\\exp(b)$. "
   ]
  },
  {
   "cell_type": "code",
   "execution_count": 5,
   "metadata": {},
   "outputs": [],
   "source": [
    "log_Pop=np.log(Pop) # take log of each entry in S_Pop"
   ]
  },
  {
   "cell_type": "code",
   "execution_count": 6,
   "metadata": {},
   "outputs": [
    {
     "name": "stdout",
     "output_type": "stream",
     "text": [
      "[0.56531381 0.70803579 0.76918187 0.8662598  1.06056422 1.24703229\n",
      " 1.42791604 1.56548602 1.70874011 1.81482474 2.0135688 ]\n"
     ]
    }
   ],
   "source": [
    "print(log_Pop)"
   ]
  },
  {
   "cell_type": "markdown",
   "metadata": {},
   "source": [
    "Use a least squares approximation to find a line as explained in the notes for matching data $x_{i}$ to $y_{i}$.  "
   ]
  },
  {
   "cell_type": "code",
   "execution_count": 7,
   "metadata": {},
   "outputs": [],
   "source": [
    "N=len(Year) # no of elements in S_Year\n",
    "sumx=0; sumy=0; sumxx=0; sumxy=0; \n",
    "for i in range(N):\n",
    "    sumx=sumx+Year[i]\n",
    "    sumy=sumy+log_Pop[i]\n",
    "    sumxx=sumxx+Year[i]**2\n",
    "    sumxy=sumxy+log_Pop[i]*Year[i]\n",
    "Xbar=sumx/N\n",
    "Ybar=sumy/N\n",
    "XXbar=sumxx/N\n",
    "XYbar=sumxy/N"
   ]
  },
  {
   "cell_type": "code",
   "execution_count": 8,
   "metadata": {},
   "outputs": [
    {
     "name": "stdout",
     "output_type": "stream",
     "text": [
      "0.0072182711579564076 5.500654960458621e-06\n"
     ]
    }
   ],
   "source": [
    "s=(XYbar-Xbar*Ybar)/(XXbar-Xbar**2)\n",
    "b=(XXbar*Ybar-Xbar*XYbar)/(XXbar-Xbar**2)\n",
    "\n",
    "P_0=np.exp(b)\n",
    "print(s,P_0)"
   ]
  },
  {
   "cell_type": "markdown",
   "metadata": {},
   "source": [
    "Plot population $P(t)=P_{0}e^{st}$ vs $t$."
   ]
  },
  {
   "cell_type": "code",
   "execution_count": 9,
   "metadata": {},
   "outputs": [],
   "source": [
    "t=np.arange(1740.0,1970.,5.)\n",
    "P_LS=P_0*np.exp(s*t) # least squares approximation"
   ]
  },
  {
   "cell_type": "code",
   "execution_count": 10,
   "metadata": {},
   "outputs": [
    {
     "data": {
      "image/png": "[encoded data removed]",
      "text/plain": [
       "<Figure size 432x288 with 1 Axes>"
      ]
     },
     "metadata": {
      "needs_background": "light"
     },
     "output_type": "display_data"
    }
   ],
   "source": [
    "plt.figure(3)\n",
    "plt.plot(t,P_LS)\n",
    "plt.plot(Year,Pop,'bo')\n",
    "plt.axis([1740,1970,1,8])\n",
    "plt.title('Population of Sweden')\n",
    "plt.show()"
   ]
  },
  {
   "cell_type": "markdown",
   "metadata": {},
   "source": [
    "###  Repeat this analysis for the US population as follows:"
   ]
  },
  {
   "cell_type": "code",
   "execution_count": 11,
   "metadata": {},
   "outputs": [],
   "source": [
    "Year = [1790, 1820, 1830, 1840, 1850, 1860, 1870, 1880, 1890, 1900, 1910, 1920, 1930, 1940, 1950, 1960, 1970, 1980, 1990]\n",
    "Pop= [3.79, 9.6, 12.9, 17.1, 23.2, 31.4, 38.6, 50.2, 62.9, 76.0, 92.0, 106.5, 123.2, 132.0, 151.3, 179.3, 203.3, 226.54, 248.7]"
   ]
  },
  {
   "cell_type": "code",
   "execution_count": 12,
   "metadata": {},
   "outputs": [
    {
     "data": {
      "image/png": "[encoded data removed]",
      "text/plain": [
       "<Figure size 432x288 with 1 Axes>"
      ]
     },
     "metadata": {
      "needs_background": "light"
     },
     "output_type": "display_data"
    }
   ],
   "source": [
    "plt.figure(4)\n",
    "plt.plot(Year,Pop,'ro')\n",
    "plt.axis([1780,2000,0,260])\n",
    "plt.title('Population of US')\n",
    "plt.show()"
   ]
  },
  {
   "cell_type": "code",
   "execution_count": 13,
   "metadata": {},
   "outputs": [],
   "source": [
    "log_Pop=np.log(Pop)"
   ]
  },
  {
   "cell_type": "code",
   "execution_count": 14,
   "metadata": {},
   "outputs": [
    {
     "data": {
      "image/png": "[encoded data removed]",
      "text/plain": [
       "<Figure size 432x288 with 1 Axes>"
      ]
     },
     "metadata": {
      "needs_background": "light"
     },
     "output_type": "display_data"
    }
   ],
   "source": [
    "plt.figure(5) # new figure\n",
    "plt.plot(Year,Pop,'bo')\n",
    "plt.yscale(\"log\")\n",
    "plt.axis([1780,2000,1,260])\n",
    "plt.title('Log Population of US')\n",
    "plt.show()"
   ]
  },
  {
   "cell_type": "code",
   "execution_count": 15,
   "metadata": {},
   "outputs": [
    {
     "name": "stdout",
     "output_type": "stream",
     "text": [
      "0.020051106626461583 1.6718326017274779e-15\n"
     ]
    }
   ],
   "source": [
    "N=len(Year) # no of elements in S_Year\n",
    "sumx=0; sumy=0; sumxx=0; sumxy=0; \n",
    "for i in range(N):\n",
    "    sumx=sumx+Year[i]\n",
    "    sumy=sumy+log_Pop[i]\n",
    "    sumxx=sumxx+Year[i]**2\n",
    "    sumxy=sumxy+log_Pop[i]*Year[i]\n",
    "Xbar=sumx/N\n",
    "Ybar=sumy/N\n",
    "XXbar=sumxx/N\n",
    "XYbar=sumxy/N\n",
    "s=(XYbar-Xbar*Ybar)/(XXbar-Xbar**2)\n",
    "b=(XXbar*Ybar-Xbar*XYbar)/(XXbar-Xbar**2)\n",
    "\n",
    "P_0=np.exp(b)\n",
    "print(s,P_0)\n",
    "\n",
    "t=np.arange(1780.0,2000.,5.)\n",
    "P_LS=P_0*np.exp(s*t) # least squares approximation\n"
   ]
  },
  {
   "cell_type": "code",
   "execution_count": 16,
   "metadata": {},
   "outputs": [
    {
     "data": {
      "image/png": "[encoded data removed]",
      "text/plain": [
       "<Figure size 432x288 with 1 Axes>"
      ]
     },
     "metadata": {
      "needs_background": "light"
     },
     "output_type": "display_data"
    }
   ],
   "source": [
    "plt.figure(6)\n",
    "plt.plot(t,P_LS)\n",
    "plt.plot(Year,Pop,'bo')\n",
    "plt.axis([1780,2000,1,260])\n",
    "plt.title('Population of US')\n",
    "plt.show()"
   ]
  },
  {
   "cell_type": "markdown",
   "metadata": {},
   "source": [
    "## Q.2 (*) Discrete Verhulst Model\n",
    "The general discrete Verhulst model of population growth is as follows \n",
    "$$\n",
    "P_{n+1}=\\dfrac{1+r}{1+\\dfrac{rP_{n}}{K}}P_{n} \n",
    "$$\n",
    "where $P_{n}\\rightarrow K$ as $n\\rightarrow \\infty $. \n",
    "\n",
    "For the choice of\n",
    "parameters $P_{0}=3.79$, $r=0.35$ and $K=300$ compare the Verhulst model to\n",
    "the US population from 1790 to 1990. Explain what you see."
   ]
  },
  {
   "cell_type": "code",
   "execution_count": 17,
   "metadata": {},
   "outputs": [
    {
     "name": "stdout",
     "output_type": "stream",
     "text": [
      "[1790, 1820, 1830, 1840, 1850, 1860, 1870, 1880, 1890, 1900, 1910, 1920, 1930, 1940, 1950, 1960, 1970, 1980, 1990]\n"
     ]
    }
   ],
   "source": [
    "print(Year)"
   ]
  },
  {
   "cell_type": "code",
   "execution_count": 18,
   "metadata": {},
   "outputs": [],
   "source": [
    "P_0=3.79\n",
    "r=0.35\n",
    "K=300.0"
   ]
  },
  {
   "cell_type": "code",
   "execution_count": 19,
   "metadata": {},
   "outputs": [],
   "source": [
    "# plot Verhulst pop PV from 1790 to 1990 with 10 year intervals\n",
    "PV=[0]*20 # list for Verhulst P initialized with 20 zeros\n",
    "YV=[0]*20 # list for years initialized with 20 zeros\n",
    "\n",
    "PV[0]=P_0\n",
    "YV[0]=1790\n",
    "# choose 10 year intervals\n",
    "for n in range(1,20):\n",
    "    YV[n]=1790+10*n\n",
    "    PV[n]=(1+r)*PV[n-1]/(1+r*PV[n-1]/K) \n",
    "    "
   ]
  },
  {
   "cell_type": "code",
   "execution_count": 20,
   "metadata": {},
   "outputs": [
    {
     "name": "stdout",
     "output_type": "stream",
     "text": [
      "[3.79, 5.093976135520772, 6.836240197791433, 9.15590034404303, 12.229827865107413, 16.278010802773355, 21.56575898309768, 28.39924806493404, 37.10945741970735, 48.0188229724253, 61.386423256309854, 77.33325731948169, 95.76020718123476, 116.28490230208658, 138.23136107104716, 160.69678033606021, 182.69000801767106, 203.3004004123143, 221.83893811890553, 237.9088727981478]\n"
     ]
    }
   ],
   "source": [
    "print(PV)"
   ]
  },
  {
   "cell_type": "code",
   "execution_count": 21,
   "metadata": {},
   "outputs": [
    {
     "data": {
      "image/png": "[encoded data removed]",
      "text/plain": [
       "<Figure size 432x288 with 1 Axes>"
      ]
     },
     "metadata": {
      "needs_background": "light"
     },
     "output_type": "display_data"
    }
   ],
   "source": [
    "plt.figure(7)\n",
    "plt.plot(YV,PV,'b^')\n",
    "plt.plot(Year,Pop,'ro')\n",
    "plt.axis([1780,2000,1,260])\n",
    "plt.title('Population of US')\n",
    "plt.show()"
   ]
  },
  {
   "cell_type": "markdown",
   "metadata": {},
   "source": [
    "## Q.3 (*) Cohort Model\n",
    "Consider the human population divided into three age groups $0-14$, $15-39$ and $\\geq 40$\n",
    "with population size $P_{i}$ , $i=1,2,3$ and yearly birth rates of 0, 0.06\n",
    "and 0 and death rates of 0.005, 0.01 and 0.015, respectively.\n",
    "\n",
    "(a). Show that ${\\bf P}(t+1)={\\bf AP}(t)$ where \n",
    "$${\\bf P}=\n",
    "\\begin{bmatrix}\n",
    "P_{1} \\\\ \n",
    "P_{2} \\\\ \n",
    "P_{3}%\n",
    "\\end{bmatrix} ,\\quad {\\bf A}=\n",
    "\\begin{bmatrix}\n",
    "0.\\,92867 & 0.06 & 0 \\\\ \n",
    "0.06\\,63 & 0.\\,9504 & 0 \\\\ \n",
    "0 & 0.0\\,396 & 0.985%\n",
    "\\end{bmatrix}.$$\n",
    "\n",
    "(b). Find the largest eigenvalue of ${\\bf A}$ and describe the long-term\n",
    "behaviour of this system.\n",
    "\n",
    "(c). Consider the growth of the population with the following initial\n",
    "populations. How long does it take for the total population to double in\n",
    "each case?\n",
    "\n",
    "$\\quad$ (i)  $P_{1}=200$, $P_{2}=P_{3}=400$.\n",
    "    \n",
    "$\\quad$   (ii) $P_{1}=400$, $P_{2}=P_{3}=300$.\n",
    "    \n",
    "$\\quad$   (iii) $P_{1}=200$, $P_{2}=500$ and $P_{3}=300$.\n",
    "\n",
    "Explain what you see."
   ]
  },
  {
   "cell_type": "code",
   "execution_count": 22,
   "metadata": {},
   "outputs": [],
   "source": [
    "b=[0, 0.06 ,0]\n",
    "d=[0.005, 0.01, 0.015]"
   ]
  },
  {
   "cell_type": "code",
   "execution_count": 23,
   "metadata": {},
   "outputs": [],
   "source": [
    "A=np.mat([[b[0] + 14/15*(1-d[0]), b[1], b[2]],\n",
    "           [1/15*(1-d[0]), 24/25*(1-d[1]), 0],\n",
    "           [0, 1/25*(1-d[1]), 1-d[2]]])"
   ]
  },
  {
   "cell_type": "code",
   "execution_count": 24,
   "metadata": {},
   "outputs": [
    {
     "name": "stdout",
     "output_type": "stream",
     "text": [
      "[[0.92866667 0.06       0.        ]\n",
      " [0.06633333 0.9504     0.        ]\n",
      " [0.         0.0396     0.985     ]]\n"
     ]
    }
   ],
   "source": [
    "print(A)"
   ]
  },
  {
   "cell_type": "markdown",
   "metadata": {},
   "source": [
    "Find eigenvalues and eigenvectors"
   ]
  },
  {
   "cell_type": "code",
   "execution_count": 25,
   "metadata": {},
   "outputs": [
    {
     "name": "stdout",
     "output_type": "stream",
     "text": [
      "[0.985      1.00354962 0.87551705]\n",
      "[[ 0.          0.32180453  0.72790385]\n",
      " [ 0.          0.40162787 -0.64479684]\n",
      " [ 1.          0.85740124  0.23322312]]\n"
     ]
    }
   ],
   "source": [
    "X, V=np.linalg.eig(A)\n",
    "print(X) # eigen values\n",
    "print(V) # columns are right eigenvectors"
   ]
  },
  {
   "cell_type": "markdown",
   "metadata": {},
   "source": [
    "(b) Can extract first, second, third eigenvalues/vectors as follows:"
   ]
  },
  {
   "cell_type": "code",
   "execution_count": 26,
   "metadata": {},
   "outputs": [
    {
     "name": "stdout",
     "output_type": "stream",
     "text": [
      "0.985 [[0.]\n",
      " [0.]\n",
      " [1.]]\n"
     ]
    }
   ],
   "source": [
    "lambda0=X[0]\n",
    "u0=V[:,0] # This is a 3 by 1 matrix\n",
    "print(lambda0,u0)"
   ]
  },
  {
   "cell_type": "code",
   "execution_count": 27,
   "metadata": {},
   "outputs": [
    {
     "data": {
      "text/plain": [
       "matrix([[0.],\n",
       "        [0.],\n",
       "        [1.]])"
      ]
     },
     "execution_count": 27,
     "metadata": {},
     "output_type": "execute_result"
    }
   ],
   "source": [
    "np.matmul(A,u0)/lambda0 # A u = lambda u"
   ]
  },
  {
   "cell_type": "code",
   "execution_count": 28,
   "metadata": {},
   "outputs": [
    {
     "name": "stdout",
     "output_type": "stream",
     "text": [
      "1.0035496159842685\n",
      "[[0.32180453]\n",
      " [0.40162787]\n",
      " [0.85740124]]\n"
     ]
    }
   ],
   "source": [
    "lambda1=X[1]\n",
    "u1=V[:,1]\n",
    "print(lambda1)\n",
    "print(u1)"
   ]
  },
  {
   "cell_type": "code",
   "execution_count": 29,
   "metadata": {},
   "outputs": [
    {
     "data": {
      "text/plain": [
       "matrix([[0.32180453],\n",
       "        [0.40162787],\n",
       "        [0.85740124]])"
      ]
     },
     "execution_count": 29,
     "metadata": {},
     "output_type": "execute_result"
    }
   ],
   "source": [
    "np.matmul(A,u1)/lambda1 # A u = lambda u"
   ]
  },
  {
   "cell_type": "code",
   "execution_count": 30,
   "metadata": {},
   "outputs": [
    {
     "name": "stdout",
     "output_type": "stream",
     "text": [
      "0.8755170506823979 [[ 0.72790385]\n",
      " [-0.64479684]\n",
      " [ 0.23322312]]\n"
     ]
    }
   ],
   "source": [
    "lambda2=X[2]\n",
    "u2=V[:,2]\n",
    "print(lambda2,u2)"
   ]
  },
  {
   "cell_type": "code",
   "execution_count": 31,
   "metadata": {},
   "outputs": [
    {
     "data": {
      "text/plain": [
       "matrix([[ 0.72790385],\n",
       "        [-0.64479684],\n",
       "        [ 0.23322312]])"
      ]
     },
     "execution_count": 31,
     "metadata": {},
     "output_type": "execute_result"
    }
   ],
   "source": [
    "np.matmul(A,u2)/lambda2 # A u = lambda u"
   ]
  },
  {
   "cell_type": "markdown",
   "metadata": {},
   "source": [
    "(c) Initial poplulation $P_{1}=P_{2}=P_{3}=100$."
   ]
  },
  {
   "cell_type": "code",
   "execution_count": 32,
   "metadata": {},
   "outputs": [],
   "source": [
    "P0=[100,100,100] "
   ]
  },
  {
   "cell_type": "code",
   "execution_count": 33,
   "metadata": {},
   "outputs": [
    {
     "data": {
      "text/plain": [
       "matrix([[ 98.86666667, 101.67333333, 102.46      ]])"
      ]
     },
     "execution_count": 33,
     "metadata": {},
     "output_type": "execute_result"
    }
   ],
   "source": [
    "np.matmul(A,P0) # population after one year"
   ]
  },
  {
   "cell_type": "code",
   "execution_count": 34,
   "metadata": {},
   "outputs": [
    {
     "name": "stdout",
     "output_type": "stream",
     "text": [
      "[[0.48657128 0.47022728 0.        ]\n",
      " [0.51986238 0.65689805 0.        ]\n",
      " [0.24436408 0.51787528 0.73913643]]\n"
     ]
    }
   ],
   "source": [
    "n=20 # 20 years\n",
    "An=np.linalg.matrix_power(A,n) # matrix A^n\n",
    "print(An)"
   ]
  },
  {
   "cell_type": "code",
   "execution_count": 35,
   "metadata": {},
   "outputs": [
    {
     "name": "stdout",
     "output_type": "stream",
     "text": [
      "[[ 95.67985614 117.67604324 150.13757869]]\n"
     ]
    }
   ],
   "source": [
    "Pn=np.matmul(An,P0) # population after n years\n",
    "print(Pn)"
   ]
  },
  {
   "cell_type": "markdown",
   "metadata": {},
   "source": [
    "Define lists P1, P2, P3 giving population at time 0,1,2,3, etc"
   ]
  },
  {
   "cell_type": "code",
   "execution_count": 36,
   "metadata": {},
   "outputs": [
    {
     "data": {
      "image/png": "[encoded data removed]",
      "text/plain": [
       "<Figure size 432x288 with 1 Axes>"
      ]
     },
     "metadata": {
      "needs_background": "light"
     },
     "output_type": "display_data"
    }
   ],
   "source": [
    "nit=50 # nit is no of time steps\n",
    "\n",
    "#initialise list to zero\n",
    "\n",
    "P1=[0]*(nit+1)\n",
    "P2=[0]*(nit+1)\n",
    "P3=[0]*(nit+1)\n",
    "\n",
    "#Given initial population\n",
    "\n",
    "P1[0],P2[0],P3[0]=100,100,100\n",
    "\n",
    "# compute P1,P2,P3 \n",
    "for n in range(1,nit+1):\n",
    "    AP=np.matmul(A,[P1[n-1],P2[n-1],P3[n-1]]) # AP[n-1]\n",
    "    P1[n],P2[n],P3[n]=AP[0,0],AP[0,1],AP[0,2]\n",
    "\n",
    "# plotting \n",
    "\n",
    "t=np.arange(0,nit+1,1) #  time steps\n",
    "plt.figure()\n",
    "P1plot,=plt.plot(t,P1,'b-')\n",
    "P2plot,=plt.plot(t,P2,'r-')\n",
    "P3plot,=plt.plot(t,P3,'g-')\n",
    "plt.legend((P1plot,P2plot,P3plot),('P1','P2','P3'))\n",
    "Pmax=max(max(P1),max(P2),max(P3))\n",
    "Pmin=min(min(P1),min(P1),min(P1))\n",
    "plt.axis([0,nit,Pmin/1.1,Pmax*1.1])\n",
    "plt.show()"
   ]
  },
  {
   "cell_type": "markdown",
   "metadata": {},
   "source": [
    "Compare populations to eigenvector for largest eigenvalue"
   ]
  },
  {
   "cell_type": "code",
   "execution_count": 37,
   "metadata": {},
   "outputs": [
    {
     "name": "stdout",
     "output_type": "stream",
     "text": [
      "1.247744063179402 1.248049155293366\n"
     ]
    }
   ],
   "source": [
    "print(P2[50]/P1[50],u1[1,0]/u1[0,0]) # compare first and second cohorts to eigenvector entries"
   ]
  },
  {
   "cell_type": "code",
   "execution_count": 38,
   "metadata": {},
   "outputs": [
    {
     "name": "stdout",
     "output_type": "stream",
     "text": [
      "2.0444670328229053 2.664354161915348\n"
     ]
    }
   ],
   "source": [
    "print(P3[50]/P1[50],u1[2,0]/u1[0,0]) # compare first and third cohorts to eigenvector entries"
   ]
  },
  {
   "cell_type": "code",
   "execution_count": 39,
   "metadata": {},
   "outputs": [
    {
     "name": "stdout",
     "output_type": "stream",
     "text": [
      "It took: 122 years to reach a population size of: 2000.0651955970018\n"
     ]
    }
   ],
   "source": [
    "#For initial population P1 = 200, P2 = P3 = 400\n",
    "\n",
    "n = 1 # n is no of time steps\n",
    "\n",
    "\n",
    "while(P1[n] + P2[n] + P3[n] < 2000):\n",
    "    n += 1\n",
    "    #initialise list to zero\n",
    "    P1=[0]*(n+1)\n",
    "    P2=[0]*(n+1)\n",
    "    P3=[0]*(n+1)\n",
    "    \n",
    "    #Given initial population\n",
    "    P1[0] = 200\n",
    "    P2[0],P3[0]=400,400\n",
    "    \n",
    "    # compute P1,P2,P3 \n",
    "    for n in range(1,n+1):\n",
    "        AP=np.matmul(A,[P1[n-1],P2[n-1],P3[n-1]]) # AP[n-1]\n",
    "        P1[n],P2[n],P3[n]=AP[0,0],AP[0,1],AP[0,2]\n",
    "\n",
    "print(\"It took:\", n, \"years to reach a population size of:\", P1[n] + P2[n] + P3[n])"
   ]
  },
  {
   "cell_type": "code",
   "execution_count": 40,
   "metadata": {},
   "outputs": [
    {
     "name": "stdout",
     "output_type": "stream",
     "text": [
      "It took: 98 years to reach a population size of: 2007.3604656704645\n"
     ]
    }
   ],
   "source": [
    "#For initial population P1 = 400, P2 = P3 = 300\n",
    "\n",
    "n = 1 # n is no of time steps\n",
    "\n",
    "\n",
    "while(P1[n] + P2[n] + P3[n] < 2000):\n",
    "    n += 1\n",
    "    #initialise list to zero\n",
    "    P1=[0]*(n+1)\n",
    "    P2=[0]*(n+1)\n",
    "    P3=[0]*(n+1)\n",
    "    \n",
    "    #Given initial population\n",
    "    P1[0] = 400\n",
    "    P2[0],P3[0]=300,300\n",
    "    \n",
    "    # compute P1,P2,P3 \n",
    "    for n in range(1,n+1):\n",
    "        AP=np.matmul(A,[P1[n-1],P2[n-1],P3[n-1]]) # AP[n-1]\n",
    "        P1[n],P2[n],P3[n]=AP[0,0],AP[0,1],AP[0,2]\n",
    "\n",
    "print(\"It took:\", n, \"years to reach a population size of:\", P1[n] + P2[n] + P3[n])"
   ]
  },
  {
   "cell_type": "code",
   "execution_count": 41,
   "metadata": {},
   "outputs": [
    {
     "name": "stdout",
     "output_type": "stream",
     "text": [
      "It took: 89 years to reach a population size of: 2004.548898645931\n"
     ]
    }
   ],
   "source": [
    "#For initial population P1 = 200, P2 = 500, P3 = 300\n",
    "\n",
    "n = 1 # n is no of time steps\n",
    "\n",
    "\n",
    "while(P1[n] + P2[n] + P3[n] < 2000):\n",
    "    n += 1\n",
    "    #initialise list to zero\n",
    "    P1=[0]*(n+1)\n",
    "    P2=[0]*(n+1)\n",
    "    P3=[0]*(n+1)\n",
    "    \n",
    "    #Given initial population\n",
    "    P1[0] = 200\n",
    "    P2[0] = 500\n",
    "    P3[0] = 300\n",
    "    \n",
    "    # compute P1,P2,P3 \n",
    "    for n in range(1,n+1):\n",
    "        AP=np.matmul(A,[P1[n-1],P2[n-1],P3[n-1]]) # AP[n-1]\n",
    "        P1[n],P2[n],P3[n]=AP[0,0],AP[0,1],AP[0,2]\n",
    "\n",
    "print(\"It took:\", n, \"years to reach a population size of:\", P1[n] + P2[n] + P3[n])"
   ]
  },
  {
   "cell_type": "markdown",
   "metadata": {},
   "source": [
    "## Q.4 (*) Chaotic Models \n",
    "Consider the Ricker model of Salmon population size as follows \n",
    "\n",
    "$$\n",
    "P_{n+1}=re^{-\\frac{P_{n}}{K}}P_{n} \n",
    "$$\n",
    "\n",
    "where $r$ is the rate and $K$ is another parameter. For simplicity choose $K=500$ and consider the behaviour of this system for\n",
    "\n",
    "(a). $r<1$, with initial population of $1000$.\n",
    "\n",
    "(b). $1<r<e^{2}$, for initial population 100, 500 and 1000.\n",
    "\n",
    "(c). $r>e^{2}$, for initial population 100, 500 and 1000.\n",
    "\n",
    "Explain what you see."
   ]
  },
  {
   "cell_type": "code",
   "execution_count": 42,
   "metadata": {},
   "outputs": [
    {
     "data": {
      "image/png": "[encoded data removed]",
      "text/plain": [
       "<Figure size 432x288 with 1 Axes>"
      ]
     },
     "metadata": {
      "needs_background": "light"
     },
     "output_type": "display_data"
    }
   ],
   "source": [
    "# initial values\n",
    "P_0=1000.\n",
    "K=500.\n",
    "r=0.9\n",
    "\n",
    "\n",
    "\n",
    "nit=100 # nit is no of time steps\n",
    "\n",
    "t=np.arange(0,nit+1,1) #  time steps\n",
    "\n",
    "P=[0]*(nit+1) # list for P initialized with nit zeros\n",
    "\n",
    "P[0]=P_0 # given initial population\n",
    "for n in range(1,nit+1):\n",
    "    P[n]=r*P[n-1]*np.exp(-P[n-1]/K) \n",
    "\n",
    "# plotting \n",
    "plt.figure()\n",
    "plt.plot(t,P,'b.')\n",
    "Pmax=max(P)\n",
    "Pmin=min(P)\n",
    "plt.axis([0,nit+1,Pmin/1.1,Pmax*1.1])\n",
    "plt.title('Salmon Population for P0 =' +str(P_0)+ ' and r = ' +str(r))\n",
    "plt.show()"
   ]
  },
  {
   "cell_type": "markdown",
   "metadata": {},
   "source": [
    "Population dies out for $r<1$. \n",
    "\n",
    "Explore the other values of $r$ where one can find convergence to non-zero population for $1<r<e^{2}$ and period doubling phenomena and chaos for $r>e^{2}$."
   ]
  },
  {
   "cell_type": "code",
   "execution_count": 43,
   "metadata": {},
   "outputs": [
    {
     "name": "stdout",
     "output_type": "stream",
     "text": [
      "7.38905609893065\n"
     ]
    }
   ],
   "source": [
    "e2=np.exp(2)\n",
    "print(e2)"
   ]
  },
  {
   "cell_type": "markdown",
   "metadata": {},
   "source": [
    "### Model for $1<r<e^{2}$"
   ]
  },
  {
   "cell_type": "code",
   "execution_count": 44,
   "metadata": {
    "scrolled": true
   },
   "outputs": [
    {
     "data": {
      "image/png": "[encoded data removed]",
      "text/plain": [
       "<Figure size 432x288 with 1 Axes>"
      ]
     },
     "metadata": {
      "needs_background": "light"
     },
     "output_type": "display_data"
    }
   ],
   "source": [
    "# initial values\n",
    "P_0=100\n",
    "K=500.\n",
    "r=5.89\n",
    "\n",
    "\n",
    "\n",
    "nit=100 # nit is no of time steps\n",
    "\n",
    "t=np.arange(0,nit+1,1) #  time steps\n",
    "\n",
    "P=[0]*(nit+1) # list for P initialized with nit zeros\n",
    "\n",
    "P[0]=P_0 # given initial population\n",
    "for n in range(1,nit+1):\n",
    "    P[n]=r*P[n-1]*np.exp(-P[n-1]/K) \n",
    "\n",
    "# plotting \n",
    "plt.figure()\n",
    "plt.plot(t,P,'b.')\n",
    "Pmax=max(P)\n",
    "Pmin=min(P)\n",
    "plt.axis([0,nit+1,Pmin/1.1,Pmax*1.1])\n",
    "plt.title('Salmon Population for P0 =' +str(P_0)+ ' and r = ' +str(r))\n",
    "plt.show()"
   ]
  },
  {
   "cell_type": "code",
   "execution_count": 45,
   "metadata": {},
   "outputs": [
    {
     "data": {
      "image/png": "[encoded data removed]",
      "text/plain": [
       "<Figure size 432x288 with 1 Axes>"
      ]
     },
     "metadata": {
      "needs_background": "light"
     },
     "output_type": "display_data"
    }
   ],
   "source": [
    "# initial values\n",
    "P_0=500\n",
    "K=500.\n",
    "r=5.89\n",
    "\n",
    "\n",
    "\n",
    "nit=100 # nit is no of time steps\n",
    "\n",
    "t=np.arange(0,nit+1,1) #  time steps\n",
    "\n",
    "P=[0]*(nit+1) # list for P initialized with nit zeros\n",
    "\n",
    "P[0]=P_0 # given initial population\n",
    "for n in range(1,nit+1):\n",
    "    P[n]=r*P[n-1]*np.exp(-P[n-1]/K) \n",
    "\n",
    "# plotting \n",
    "plt.figure()\n",
    "plt.plot(t,P,'b.')\n",
    "Pmax=max(P)\n",
    "Pmin=min(P)\n",
    "plt.axis([0,nit+1,Pmin/1.1,Pmax*1.1])\n",
    "plt.title('Salmon Population for P0 =' +str(P_0)+ ' and r = ' +str(r))\n",
    "plt.show()"
   ]
  },
  {
   "cell_type": "code",
   "execution_count": 46,
   "metadata": {},
   "outputs": [
    {
     "data": {
      "image/png": "[encoded data removed]",
      "text/plain": [
       "<Figure size 432x288 with 1 Axes>"
      ]
     },
     "metadata": {
      "needs_background": "light"
     },
     "output_type": "display_data"
    }
   ],
   "source": [
    "# initial values\n",
    "P_0=1000\n",
    "K=500.\n",
    "r=5.89\n",
    "\n",
    "\n",
    "\n",
    "nit=100 # nit is no of time steps\n",
    "\n",
    "t=np.arange(0,nit+1,1) #  time steps\n",
    "\n",
    "P=[0]*(nit+1) # list for P initialized with nit zeros\n",
    "\n",
    "P[0]=P_0 # given initial population\n",
    "for n in range(1,nit+1):\n",
    "    P[n]=r*P[n-1]*np.exp(-P[n-1]/K) \n",
    "\n",
    "# plotting \n",
    "plt.figure()\n",
    "plt.plot(t,P,'b.')\n",
    "Pmax=max(P)\n",
    "Pmin=min(P)\n",
    "plt.axis([0,nit+1,Pmin/1.1,Pmax*1.1])\n",
    "plt.title('Salmon Population for P0 =' +str(P_0)+ ' and r = ' +str(r))\n",
    "plt.show()"
   ]
  },
  {
   "cell_type": "markdown",
   "metadata": {},
   "source": [
    "### When $1<r<e^{2}$ we have a model that converges to a non-zero population size for all $P_0 > 0$"
   ]
  },
  {
   "cell_type": "markdown",
   "metadata": {},
   "source": [
    "### Model for $r>e^{2}$"
   ]
  },
  {
   "cell_type": "code",
   "execution_count": 47,
   "metadata": {
    "scrolled": true
   },
   "outputs": [
    {
     "data": {
      "image/png": "[encoded data removed]",
      "text/plain": [
       "<Figure size 432x288 with 1 Axes>"
      ]
     },
     "metadata": {
      "needs_background": "light"
     },
     "output_type": "display_data"
    }
   ],
   "source": [
    "# initial values\n",
    "P_0=100\n",
    "K=500.\n",
    "r=17\n",
    "\n",
    "\n",
    "\n",
    "nit=100 # nit is no of time steps\n",
    "\n",
    "t=np.arange(0,nit+1,1) #  time steps\n",
    "\n",
    "P=[0]*(nit+1) # list for P initialized with nit zeros\n",
    "\n",
    "P[0]=P_0 # given initial population\n",
    "for n in range(1,nit+1):\n",
    "    P[n]=r*P[n-1]*np.exp(-P[n-1]/K) \n",
    "\n",
    "# plotting \n",
    "plt.figure()\n",
    "plt.plot(t,P,'b.')\n",
    "Pmax=max(P)\n",
    "Pmin=min(P)\n",
    "plt.axis([0,nit+1,Pmin/1.1,Pmax*1.1])\n",
    "plt.title('Salmon Population for P0 =' +str(P_0)+ ' and r = ' +str(r))\n",
    "plt.show()"
   ]
  },
  {
   "cell_type": "code",
   "execution_count": 48,
   "metadata": {},
   "outputs": [
    {
     "data": {
      "image/png": "[encoded data removed]",
      "text/plain": [
       "<Figure size 432x288 with 1 Axes>"
      ]
     },
     "metadata": {
      "needs_background": "light"
     },
     "output_type": "display_data"
    }
   ],
   "source": [
    "# initial values\n",
    "P_0=500\n",
    "K=500.\n",
    "r=17\n",
    "\n",
    "\n",
    "\n",
    "nit=100 # nit is no of time steps\n",
    "\n",
    "t=np.arange(0,nit+1,1) #  time steps\n",
    "\n",
    "P=[0]*(nit+1) # list for P initialized with nit zeros\n",
    "\n",
    "P[0]=P_0 # given initial population\n",
    "for n in range(1,nit+1):\n",
    "    P[n]=r*P[n-1]*np.exp(-P[n-1]/K) \n",
    "\n",
    "# plotting \n",
    "plt.figure()\n",
    "plt.plot(t,P,'b.')\n",
    "Pmax=max(P)\n",
    "Pmin=min(P)\n",
    "plt.axis([0,nit+1,Pmin/1.1,Pmax*1.1])\n",
    "plt.title('Salmon Population for P0 =' +str(P_0)+ ' and r = ' +str(r))\n",
    "plt.show()"
   ]
  },
  {
   "cell_type": "code",
   "execution_count": 49,
   "metadata": {},
   "outputs": [
    {
     "data": {
      "image/png": "[encoded data removed]",
      "text/plain": [
       "<Figure size 432x288 with 1 Axes>"
      ]
     },
     "metadata": {
      "needs_background": "light"
     },
     "output_type": "display_data"
    }
   ],
   "source": [
    "# initial values\n",
    "P_0=1000\n",
    "K=500.\n",
    "r=17\n",
    "\n",
    "\n",
    "\n",
    "nit=100 # nit is no of time steps\n",
    "\n",
    "t=np.arange(0,nit+1,1) #  time steps\n",
    "\n",
    "P=[0]*(nit+1) # list for P initialized with nit zeros\n",
    "\n",
    "P[0]=P_0 # given initial population\n",
    "for n in range(1,nit+1):\n",
    "    P[n]=r*P[n-1]*np.exp(-P[n-1]/K) \n",
    "\n",
    "# plotting \n",
    "plt.figure()\n",
    "plt.plot(t,P,'b.')\n",
    "Pmax=max(P)\n",
    "Pmin=min(P)\n",
    "plt.axis([0,nit+1,Pmin/1.1,Pmax*1.1])\n",
    "plt.title('Salmon Population for P0 =' +str(P_0)+ ' and r = ' +str(r))\n",
    "plt.show()"
   ]
  },
  {
   "cell_type": "markdown",
   "metadata": {},
   "source": [
    "### When $r > 16$ then the model becomes chaotic for all $P_0 > 0$"
   ]
  }
 ],
 "metadata": {
  "celltoolbar": "Raw Cell Format",
  "kernelspec": {
   "display_name": "Python 3 (ipykernel)",
   "language": "python",
   "name": "python3"
  },
  "language_info": {
   "codemirror_mode": {
    "name": "ipython",
    "version": 3
   },
   "file_extension": ".py",
   "mimetype": "text/x-python",
   "name": "python",
   "nbconvert_exporter": "python",
   "pygments_lexer": "ipython3",
   "version": "3.9.12"
  }
 },
 "nbformat": 4,
 "nbformat_minor": 4
}
